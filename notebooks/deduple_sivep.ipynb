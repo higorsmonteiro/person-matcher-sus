{
 "cells": [
  {
   "cell_type": "markdown",
   "id": "4f9bdcc5-3300-42ff-bd0f-cb71b4b32604",
   "metadata": {},
   "source": [
    "# **Deduplication**\n",
    "\n",
    "Deduplication of SIVEP-GRIPE stored in the warehouse.<br> \n",
    "The deduplication process is performed in order to generate data to train the final machine learning model to\n",
    "identify a same individual for different records. \n",
    "\n",
    "There is no need to perform this task frequently, since there is no reason for domain shift. "
   ]
  },
  {
   "cell_type": "markdown",
   "id": "73896d55-14e3-45c2-8856-5916f8391220",
   "metadata": {},
   "source": [
    "# **Lib**"
   ]
  },
  {
   "cell_type": "code",
   "execution_count": 1,
   "id": "614f17ab-e0ff-4c0f-9d9c-390061439cba",
   "metadata": {},
   "outputs": [],
   "source": [
    "import os\n",
    "import sys\n",
    "sys.path.append( os.path.dirname(os.path.abspath('')) )"
   ]
  },
  {
   "cell_type": "code",
   "execution_count": 2,
   "id": "61fd15bd-cc54-4801-907d-616ffabd217f",
   "metadata": {},
   "outputs": [
    {
     "name": "stdout",
     "output_type": "stream",
     "text": [
      "PyTables is not installed. No support for HDF output.\n"
     ]
    }
   ],
   "source": [
    "import json\n",
    "import glob\n",
    "import shutil\n",
    "import zipfile\n",
    "import numpy as np\n",
    "import pandas as pd\n",
    "import datetime as dt\n",
    "from simpledbf import Dbf5\n",
    "\n",
    "import matplotlib.pyplot as plt"
   ]
  },
  {
   "cell_type": "code",
   "execution_count": 3,
   "id": "aa5d0c95-f69b-4343-8272-289ef700b784",
   "metadata": {},
   "outputs": [],
   "source": [
    "from epimonitor import WarehouseSUS\n",
    "from epimonitor.process_layer import ProcessSivep, ProcessDB\n",
    "from epimonitor.data_matching import Deduple"
   ]
  },
  {
   "cell_type": "code",
   "execution_count": 4,
   "id": "10e0ace8-911b-48aa-a116-1816eea0be15",
   "metadata": {},
   "outputs": [],
   "source": [
    "from sqlalchemy import create_engine, MetaData"
   ]
  },
  {
   "cell_type": "markdown",
   "id": "cceeffb2-9390-4bd3-8b61-2959d6c48ee4",
   "metadata": {},
   "source": [
    "# **Database Connection**"
   ]
  },
  {
   "cell_type": "code",
   "execution_count": 5,
   "id": "db3921e2-1680-48cd-93ca-9c827a099907",
   "metadata": {},
   "outputs": [],
   "source": [
    "datapath = os.path.join(os.environ[\"HOMEPATH\"], \"Documents\", \"data\")\n",
    "dbpath = os.path.join(datapath, \"DATASUS_WAREHOUSE\", \"datasus_pessoas.db\") # it shouldn't be here in this script\n",
    "engine_url = f\"sqlite:///{dbpath}\"\n",
    "\n",
    "ex = create_engine(engine_url)\n",
    "\n",
    "warehouse = WarehouseSUS(engine_url)\n",
    "engine = warehouse.db_init()"
   ]
  },
  {
   "cell_type": "code",
   "execution_count": 19,
   "id": "03c996ac-4b32-4c27-b10a-a81710c6fa73",
   "metadata": {},
   "outputs": [
    {
     "name": "stdout",
     "output_type": "stream",
     "text": [
      "Total of records stored: 0\n"
     ]
    }
   ],
   "source": [
    "nrecords = warehouse.number_of_records('sivep_gripe_label')\n",
    "print(f\"Total of records stored: {nrecords}\")"
   ]
  },
  {
   "cell_type": "markdown",
   "id": "015b090b-fadf-41db-b4a4-0ef6ccec3b78",
   "metadata": {},
   "source": [
    "# **Deduplication**"
   ]
  },
  {
   "cell_type": "markdown",
   "id": "8b74cda8-872a-4e87-9e64-8e662d2d1ceb",
   "metadata": {},
   "source": [
    "Between 2020 and 2023, sample **70%** of the data."
   ]
  },
  {
   "cell_type": "code",
   "execution_count": 7,
   "id": "ca836c1c-d9ef-4a02-8828-cd86bbd5667f",
   "metadata": {},
   "outputs": [
    {
     "ename": "KeyError",
     "evalue": "'DATA_NOTIFICACAO'",
     "output_type": "error",
     "traceback": [
      "\u001b[1;31m---------------------------------------------------------------------------\u001b[0m",
      "\u001b[1;31mKeyError\u001b[0m                                  Traceback (most recent call last)",
      "Input \u001b[1;32mIn [17]\u001b[0m, in \u001b[0;36m<cell line: 2>\u001b[1;34m()\u001b[0m\n\u001b[0;32m      1\u001b[0m period \u001b[38;5;241m=\u001b[39m (dt\u001b[38;5;241m.\u001b[39mdatetime(\u001b[38;5;241m2020\u001b[39m, \u001b[38;5;241m1\u001b[39m, \u001b[38;5;241m1\u001b[39m), dt\u001b[38;5;241m.\u001b[39mdatetime\u001b[38;5;241m.\u001b[39mtoday())\n\u001b[1;32m----> 2\u001b[0m query_data \u001b[38;5;241m=\u001b[39m pd\u001b[38;5;241m.\u001b[39mDataFrame( \u001b[43mwarehouse\u001b[49m\u001b[38;5;241;43m.\u001b[39;49m\u001b[43mquery_period\u001b[49m\u001b[43m(\u001b[49m\u001b[43mtable_name\u001b[49m\u001b[38;5;241;43m=\u001b[39;49m\u001b[38;5;124;43m'\u001b[39;49m\u001b[38;5;124;43msivep_gripe_info\u001b[39;49m\u001b[38;5;124;43m'\u001b[39;49m\u001b[43m,\u001b[49m\u001b[43m \u001b[49m\u001b[43mdate_col\u001b[49m\u001b[38;5;241;43m=\u001b[39;49m\u001b[38;5;124;43m\"\u001b[39;49m\u001b[38;5;124;43mDATA_NOTIFICACAO\u001b[39;49m\u001b[38;5;124;43m\"\u001b[39;49m\u001b[43m,\u001b[49m\u001b[43m \u001b[49m\u001b[43mperiod\u001b[49m\u001b[38;5;241;43m=\u001b[39;49m\u001b[43mperiod\u001b[49m\u001b[43m)\u001b[49m )\u001b[38;5;241m.\u001b[39msample(frac\u001b[38;5;241m=\u001b[39m\u001b[38;5;241m0.30\u001b[39m)\n",
      "File \u001b[1;32m~\\Documents\\projects\\epimonitor-sari\\epimonitor\\warehouse_model\\warehouse_model.py:413\u001b[0m, in \u001b[0;36mWarehouseSUS.query_period\u001b[1;34m(self, table_name, date_col, period)\u001b[0m\n\u001b[0;32m    411\u001b[0m table_model \u001b[38;5;241m=\u001b[39m \u001b[38;5;28mself\u001b[39m\u001b[38;5;241m.\u001b[39m_tables[table_name]\n\u001b[0;32m    412\u001b[0m sel \u001b[38;5;241m=\u001b[39m select(table_model)\n\u001b[1;32m--> 413\u001b[0m sel \u001b[38;5;241m=\u001b[39m sel\u001b[38;5;241m.\u001b[39morder_by(\u001b[43mtable_model\u001b[49m\u001b[38;5;241;43m.\u001b[39;49m\u001b[43mc\u001b[49m\u001b[43m[\u001b[49m\u001b[43mdate_col\u001b[49m\u001b[43m]\u001b[49m)\n\u001b[0;32m    414\u001b[0m \u001b[38;5;28;01mif\u001b[39;00m period \u001b[38;5;129;01mis\u001b[39;00m \u001b[38;5;129;01mnot\u001b[39;00m \u001b[38;5;28;01mNone\u001b[39;00m:\n\u001b[0;32m    415\u001b[0m     \u001b[38;5;28;01mif\u001b[39;00m period[\u001b[38;5;241m1\u001b[39m] \u001b[38;5;129;01mis\u001b[39;00m \u001b[38;5;28;01mNone\u001b[39;00m:\n",
      "File \u001b[1;32m~\\Miniconda3\\envs\\cevepi\\lib\\site-packages\\sqlalchemy\\sql\\base.py:1614\u001b[0m, in \u001b[0;36mColumnCollection.__getitem__\u001b[1;34m(self, key)\u001b[0m\n\u001b[0;32m   1612\u001b[0m         \u001b[38;5;28;01mreturn\u001b[39;00m ColumnCollection(cols)\u001b[38;5;241m.\u001b[39mas_readonly()\n\u001b[0;32m   1613\u001b[0m     \u001b[38;5;28;01melse\u001b[39;00m:\n\u001b[1;32m-> 1614\u001b[0m         \u001b[38;5;28;01mreturn\u001b[39;00m \u001b[38;5;28;43mself\u001b[39;49m\u001b[38;5;241;43m.\u001b[39;49m\u001b[43m_index\u001b[49m\u001b[43m[\u001b[49m\u001b[43mkey\u001b[49m\u001b[43m]\u001b[49m[\u001b[38;5;241m1\u001b[39m]\n\u001b[0;32m   1615\u001b[0m \u001b[38;5;28;01mexcept\u001b[39;00m \u001b[38;5;167;01mKeyError\u001b[39;00m \u001b[38;5;28;01mas\u001b[39;00m err:\n\u001b[0;32m   1616\u001b[0m     \u001b[38;5;28;01mif\u001b[39;00m \u001b[38;5;28misinstance\u001b[39m(err\u001b[38;5;241m.\u001b[39margs[\u001b[38;5;241m0\u001b[39m], \u001b[38;5;28mint\u001b[39m):\n",
      "\u001b[1;31mKeyError\u001b[0m: 'DATA_NOTIFICACAO'"
     ]
    }
   ],
   "source": [
    "period = (dt.datetime(2020, 1, 1), dt.datetime.today())\n",
    "query_data = pd.DataFrame( warehouse.query_period(table_name='sivep_gripe_pessoa', date_col=\"DATA_NOTIFICACAO\", period=period) ).sample(frac=0.30)"
   ]
  },
  {
   "cell_type": "code",
   "execution_count": 8,
   "id": "9c851597-71e6-4770-b2d7-547d6524a2be",
   "metadata": {},
   "outputs": [
    {
     "name": "stdout",
     "output_type": "stream",
     "text": [
      "<class 'pandas.core.frame.DataFrame'>\n",
      "Index: 29848 entries, 96914 to 69219\n",
      "Data columns (total 15 columns):\n",
      " #   Column                Non-Null Count  Dtype         \n",
      "---  ------                --------------  -----         \n",
      " 0   ID_SIVEP              29848 non-null  object        \n",
      " 1   DATA_NOTIFICACAO      29848 non-null  datetime64[ns]\n",
      " 2   NOME_PACIENTE         29848 non-null  object        \n",
      " 3   DATA_NASCIMENTO       29825 non-null  datetime64[ns]\n",
      " 4   SEXO                  29848 non-null  object        \n",
      " 5   NOME_MAE              29015 non-null  object        \n",
      " 6   LOGRADOURO            29122 non-null  object        \n",
      " 7   LOGRADOURO_NUMERO     27674 non-null  object        \n",
      " 8   BAIRRO_RESIDENCIA     28196 non-null  object        \n",
      " 9   MUNICIPIO_RESIDENCIA  29848 non-null  object        \n",
      " 10  CEP                   17788 non-null  object        \n",
      " 11  CNS                   7444 non-null   object        \n",
      " 12  CPF                   16015 non-null  object        \n",
      " 13  CRIADO_EM             29848 non-null  datetime64[ns]\n",
      " 14  ATUALIZADO_EM         29848 non-null  datetime64[ns]\n",
      "dtypes: datetime64[ns](4), object(11)\n",
      "memory usage: 3.6+ MB\n",
      "None\n"
     ]
    },
    {
     "data": {
      "text/html": [
       "<div>\n",
       "<style scoped>\n",
       "    .dataframe tbody tr th:only-of-type {\n",
       "        vertical-align: middle;\n",
       "    }\n",
       "\n",
       "    .dataframe tbody tr th {\n",
       "        vertical-align: top;\n",
       "    }\n",
       "\n",
       "    .dataframe thead th {\n",
       "        text-align: right;\n",
       "    }\n",
       "</style>\n",
       "<table border=\"1\" class=\"dataframe\">\n",
       "  <thead>\n",
       "    <tr style=\"text-align: right;\">\n",
       "      <th></th>\n",
       "      <th>ID_SIVEP</th>\n",
       "      <th>DATA_NOTIFICACAO</th>\n",
       "      <th>NOME_PACIENTE</th>\n",
       "      <th>DATA_NASCIMENTO</th>\n",
       "      <th>SEXO</th>\n",
       "      <th>NOME_MAE</th>\n",
       "      <th>LOGRADOURO</th>\n",
       "      <th>LOGRADOURO_NUMERO</th>\n",
       "      <th>BAIRRO_RESIDENCIA</th>\n",
       "      <th>MUNICIPIO_RESIDENCIA</th>\n",
       "      <th>CEP</th>\n",
       "      <th>CNS</th>\n",
       "      <th>CPF</th>\n",
       "      <th>CRIADO_EM</th>\n",
       "      <th>ATUALIZADO_EM</th>\n",
       "    </tr>\n",
       "  </thead>\n",
       "  <tbody>\n",
       "    <tr>\n",
       "      <th>99178</th>\n",
       "      <td>31692469895007</td>\n",
       "      <td>2023-08-19</td>\n",
       "      <td>REBECA SILVA LIMA</td>\n",
       "      <td>2018-10-21</td>\n",
       "      <td>F</td>\n",
       "      <td>REGINA LIMA SILVA</td>\n",
       "      <td>DIADEMA</td>\n",
       "      <td>365</td>\n",
       "      <td>DIADEMA</td>\n",
       "      <td>230523</td>\n",
       "      <td>None</td>\n",
       "      <td>708908702717915</td>\n",
       "      <td>None</td>\n",
       "      <td>2023-09-22 17:53:51.924146</td>\n",
       "      <td>2023-09-22 17:53:51.924146</td>\n",
       "    </tr>\n",
       "    <tr>\n",
       "      <th>39162</th>\n",
       "      <td>316239552057</td>\n",
       "      <td>2021-03-18</td>\n",
       "      <td>EDNARDO LIMA BARATA</td>\n",
       "      <td>1971-09-25</td>\n",
       "      <td>M</td>\n",
       "      <td>TEREZINHA LIMA BARATA</td>\n",
       "      <td>RUA NESTOR BARBOSA</td>\n",
       "      <td>315</td>\n",
       "      <td>AMADEU FURTADO</td>\n",
       "      <td>230440</td>\n",
       "      <td>None</td>\n",
       "      <td>None</td>\n",
       "      <td>None</td>\n",
       "      <td>2023-09-22 17:53:08.835376</td>\n",
       "      <td>2023-09-22 17:53:08.835376</td>\n",
       "    </tr>\n",
       "    <tr>\n",
       "      <th>31621</th>\n",
       "      <td>316132399976</td>\n",
       "      <td>2021-02-13</td>\n",
       "      <td>FRANCISCO GOMES DE ARAUJO</td>\n",
       "      <td>1943-05-10</td>\n",
       "      <td>M</td>\n",
       "      <td>MARIA GOMES DE ARAUJO</td>\n",
       "      <td>TENENTE ROMA</td>\n",
       "      <td>445</td>\n",
       "      <td>ALTO DA BALANCA</td>\n",
       "      <td>230440</td>\n",
       "      <td>60851030</td>\n",
       "      <td>None</td>\n",
       "      <td>24810479315</td>\n",
       "      <td>2023-09-22 17:53:05.835592</td>\n",
       "      <td>2023-09-22 17:53:05.835592</td>\n",
       "    </tr>\n",
       "    <tr>\n",
       "      <th>14667</th>\n",
       "      <td>315922264188</td>\n",
       "      <td>2020-06-15</td>\n",
       "      <td>FRANCISCO DANILO DE SOUSA</td>\n",
       "      <td>1954-07-25</td>\n",
       "      <td>M</td>\n",
       "      <td>INEZ MARIA DE JESUS</td>\n",
       "      <td>RUA 2-RESIDENCIAL BOA VISTA</td>\n",
       "      <td>93</td>\n",
       "      <td>AUTRAN NUNES</td>\n",
       "      <td>230440</td>\n",
       "      <td>None</td>\n",
       "      <td>None</td>\n",
       "      <td>16673140330</td>\n",
       "      <td>2023-09-22 17:52:45.079473</td>\n",
       "      <td>2023-09-22 17:52:45.079473</td>\n",
       "    </tr>\n",
       "  </tbody>\n",
       "</table>\n",
       "</div>"
      ],
      "text/plain": [
       "             ID_SIVEP DATA_NOTIFICACAO              NOME_PACIENTE  \\\n",
       "99178  31692469895007       2023-08-19          REBECA SILVA LIMA   \n",
       "39162    316239552057       2021-03-18        EDNARDO LIMA BARATA   \n",
       "31621    316132399976       2021-02-13  FRANCISCO GOMES DE ARAUJO   \n",
       "14667    315922264188       2020-06-15  FRANCISCO DANILO DE SOUSA   \n",
       "\n",
       "      DATA_NASCIMENTO SEXO               NOME_MAE  \\\n",
       "99178      2018-10-21    F      REGINA LIMA SILVA   \n",
       "39162      1971-09-25    M  TEREZINHA LIMA BARATA   \n",
       "31621      1943-05-10    M  MARIA GOMES DE ARAUJO   \n",
       "14667      1954-07-25    M    INEZ MARIA DE JESUS   \n",
       "\n",
       "                        LOGRADOURO LOGRADOURO_NUMERO BAIRRO_RESIDENCIA  \\\n",
       "99178                      DIADEMA               365           DIADEMA   \n",
       "39162           RUA NESTOR BARBOSA               315    AMADEU FURTADO   \n",
       "31621                 TENENTE ROMA               445   ALTO DA BALANCA   \n",
       "14667  RUA 2-RESIDENCIAL BOA VISTA                93      AUTRAN NUNES   \n",
       "\n",
       "      MUNICIPIO_RESIDENCIA       CEP              CNS          CPF  \\\n",
       "99178               230523      None  708908702717915         None   \n",
       "39162               230440      None             None         None   \n",
       "31621               230440  60851030             None  24810479315   \n",
       "14667               230440      None             None  16673140330   \n",
       "\n",
       "                       CRIADO_EM              ATUALIZADO_EM  \n",
       "99178 2023-09-22 17:53:51.924146 2023-09-22 17:53:51.924146  \n",
       "39162 2023-09-22 17:53:08.835376 2023-09-22 17:53:08.835376  \n",
       "31621 2023-09-22 17:53:05.835592 2023-09-22 17:53:05.835592  \n",
       "14667 2023-09-22 17:52:45.079473 2023-09-22 17:52:45.079473  "
      ]
     },
     "execution_count": 8,
     "metadata": {},
     "output_type": "execute_result"
    }
   ],
   "source": [
    "print(query_data.info())\n",
    "query_data.sample(n=4)"
   ]
  },
  {
   "cell_type": "markdown",
   "id": "cc4cdc47-d4c9-4774-a4e9-6a80fa269366",
   "metadata": {},
   "source": [
    "## **Process Sivep**"
   ]
  },
  {
   "cell_type": "code",
   "execution_count": 9,
   "id": "d86ed443-0d9d-447a-bb44-42c61fc4d2e7",
   "metadata": {},
   "outputs": [],
   "source": [
    "processor = ProcessDB(query_data, 'ID_SIVEP')"
   ]
  },
  {
   "cell_type": "code",
   "execution_count": 10,
   "id": "21b32834-38c2-4ba3-bd06-29ff0f910dcd",
   "metadata": {},
   "outputs": [],
   "source": [
    "processor.basic_standardize().specific_standardize(field_id=\"ID_SIVEP\")"
   ]
  },
  {
   "cell_type": "code",
   "execution_count": 11,
   "id": "c3466fb1-1de4-429f-9121-663b9536ab5b",
   "metadata": {},
   "outputs": [
    {
     "data": {
      "text/html": [
       "<div>\n",
       "<style scoped>\n",
       "    .dataframe tbody tr th:only-of-type {\n",
       "        vertical-align: middle;\n",
       "    }\n",
       "\n",
       "    .dataframe tbody tr th {\n",
       "        vertical-align: top;\n",
       "    }\n",
       "\n",
       "    .dataframe thead th {\n",
       "        text-align: right;\n",
       "    }\n",
       "</style>\n",
       "<table border=\"1\" class=\"dataframe\">\n",
       "  <thead>\n",
       "    <tr style=\"text-align: right;\">\n",
       "      <th></th>\n",
       "      <th>ID_SIVEP</th>\n",
       "      <th>NOME_PACIENTE</th>\n",
       "      <th>NOME_MAE</th>\n",
       "      <th>DATA_NASCIMENTO</th>\n",
       "      <th>primeiro_nome</th>\n",
       "      <th>complemento_nome</th>\n",
       "      <th>primeiro_nome_mae</th>\n",
       "      <th>complemento_nome_mae</th>\n",
       "      <th>nascimento_dia</th>\n",
       "      <th>nascimento_mes</th>\n",
       "      <th>...</th>\n",
       "      <th>FONETICA_N</th>\n",
       "      <th>norm_primeiro_nome</th>\n",
       "      <th>rank_primeiro_nome</th>\n",
       "      <th>norm_primeiro_nome_mae</th>\n",
       "      <th>rank_primeiro_nome_mae</th>\n",
       "      <th>sexo</th>\n",
       "      <th>cpf</th>\n",
       "      <th>cns</th>\n",
       "      <th>bairro</th>\n",
       "      <th>cep</th>\n",
       "    </tr>\n",
       "  </thead>\n",
       "  <tbody>\n",
       "    <tr>\n",
       "      <th>26105</th>\n",
       "      <td>316298093428</td>\n",
       "      <td>RONYELL FERNANDO BARBOSA</td>\n",
       "      <td>ANA VITORIA BARBOSA DA SILVA</td>\n",
       "      <td>2019-09-30</td>\n",
       "      <td>RONYELL</td>\n",
       "      <td>FERNANDO BARBOSA</td>\n",
       "      <td>ANA</td>\n",
       "      <td>VITORIA BARBOSA DA SILVA</td>\n",
       "      <td>30.0</td>\n",
       "      <td>9.0</td>\n",
       "      <td>...</td>\n",
       "      <td>RONYELLBARBOSA</td>\n",
       "      <td>0.000067</td>\n",
       "      <td>3</td>\n",
       "      <td>0.026568</td>\n",
       "      <td>6</td>\n",
       "      <td>M</td>\n",
       "      <td>11042361339</td>\n",
       "      <td>NaN</td>\n",
       "      <td>EDSON QUEIROZ</td>\n",
       "      <td>NaN</td>\n",
       "    </tr>\n",
       "    <tr>\n",
       "      <th>20627</th>\n",
       "      <td>316197085920</td>\n",
       "      <td>THIAGO OLIVEIRA SOUSA</td>\n",
       "      <td>NADJA OLIVEIRA SOUSA</td>\n",
       "      <td>1991-03-20</td>\n",
       "      <td>THIAGO</td>\n",
       "      <td>OLIVEIRA SOUSA</td>\n",
       "      <td>NADJA</td>\n",
       "      <td>OLIVEIRA SOUSA</td>\n",
       "      <td>20.0</td>\n",
       "      <td>3.0</td>\n",
       "      <td>...</td>\n",
       "      <td>THIAGOSOUSA</td>\n",
       "      <td>0.001675</td>\n",
       "      <td>4</td>\n",
       "      <td>0.000067</td>\n",
       "      <td>3</td>\n",
       "      <td>M</td>\n",
       "      <td>04518025350</td>\n",
       "      <td>NaN</td>\n",
       "      <td>PEDRAS</td>\n",
       "      <td>NaN</td>\n",
       "    </tr>\n",
       "    <tr>\n",
       "      <th>7478</th>\n",
       "      <td>31683345206426</td>\n",
       "      <td>BEATRIZ KEMILLY SANTOS SILVA</td>\n",
       "      <td>KATIANA DA SILVA OLIVEIRA</td>\n",
       "      <td>2023-01-03</td>\n",
       "      <td>BEATRIZ</td>\n",
       "      <td>KEMILLY SANTOS SILVA</td>\n",
       "      <td>KATIANA</td>\n",
       "      <td>DA SILVA OLIVEIRA</td>\n",
       "      <td>3.0</td>\n",
       "      <td>1.0</td>\n",
       "      <td>...</td>\n",
       "      <td>BEATRIZSILVA</td>\n",
       "      <td>0.000704</td>\n",
       "      <td>4</td>\n",
       "      <td>0.000168</td>\n",
       "      <td>3</td>\n",
       "      <td>F</td>\n",
       "      <td>None</td>\n",
       "      <td>NaN</td>\n",
       "      <td>PREFEITO JOSE WALTER</td>\n",
       "      <td>NaN</td>\n",
       "    </tr>\n",
       "    <tr>\n",
       "      <th>8183</th>\n",
       "      <td>31642426176146</td>\n",
       "      <td>ADILIO FARIAS DE ARAUJO</td>\n",
       "      <td>FRANCISCA HIGINO FARIAS DE ARAUJO</td>\n",
       "      <td>1983-08-17</td>\n",
       "      <td>ADILIO</td>\n",
       "      <td>FARIAS DE ARAUJO</td>\n",
       "      <td>FRANCISCA</td>\n",
       "      <td>HIGINO FARIAS DE ARAUJO</td>\n",
       "      <td>17.0</td>\n",
       "      <td>8.0</td>\n",
       "      <td>...</td>\n",
       "      <td>ADILIOARAUJO</td>\n",
       "      <td>0.000034</td>\n",
       "      <td>2</td>\n",
       "      <td>0.075750</td>\n",
       "      <td>6</td>\n",
       "      <td>M</td>\n",
       "      <td>01440909377</td>\n",
       "      <td>NaN</td>\n",
       "      <td>MARECHAL RONDON</td>\n",
       "      <td>NaN</td>\n",
       "    </tr>\n",
       "  </tbody>\n",
       "</table>\n",
       "<p>4 rows × 21 columns</p>\n",
       "</div>"
      ],
      "text/plain": [
       "             ID_SIVEP                 NOME_PACIENTE  \\\n",
       "26105    316298093428      RONYELL FERNANDO BARBOSA   \n",
       "20627    316197085920         THIAGO OLIVEIRA SOUSA   \n",
       "7478   31683345206426  BEATRIZ KEMILLY SANTOS SILVA   \n",
       "8183   31642426176146       ADILIO FARIAS DE ARAUJO   \n",
       "\n",
       "                                NOME_MAE DATA_NASCIMENTO primeiro_nome  \\\n",
       "26105       ANA VITORIA BARBOSA DA SILVA      2019-09-30       RONYELL   \n",
       "20627               NADJA OLIVEIRA SOUSA      1991-03-20        THIAGO   \n",
       "7478           KATIANA DA SILVA OLIVEIRA      2023-01-03       BEATRIZ   \n",
       "8183   FRANCISCA HIGINO FARIAS DE ARAUJO      1983-08-17        ADILIO   \n",
       "\n",
       "           complemento_nome primeiro_nome_mae      complemento_nome_mae  \\\n",
       "26105      FERNANDO BARBOSA               ANA  VITORIA BARBOSA DA SILVA   \n",
       "20627        OLIVEIRA SOUSA             NADJA            OLIVEIRA SOUSA   \n",
       "7478   KEMILLY SANTOS SILVA           KATIANA         DA SILVA OLIVEIRA   \n",
       "8183       FARIAS DE ARAUJO         FRANCISCA   HIGINO FARIAS DE ARAUJO   \n",
       "\n",
       "       nascimento_dia  nascimento_mes  ...      FONETICA_N norm_primeiro_nome  \\\n",
       "26105            30.0             9.0  ...  RONYELLBARBOSA           0.000067   \n",
       "20627            20.0             3.0  ...     THIAGOSOUSA           0.001675   \n",
       "7478              3.0             1.0  ...    BEATRIZSILVA           0.000704   \n",
       "8183             17.0             8.0  ...    ADILIOARAUJO           0.000034   \n",
       "\n",
       "       rank_primeiro_nome norm_primeiro_nome_mae  rank_primeiro_nome_mae sexo  \\\n",
       "26105                   3               0.026568                       6    M   \n",
       "20627                   4               0.000067                       3    M   \n",
       "7478                    4               0.000168                       3    F   \n",
       "8183                    2               0.075750                       6    M   \n",
       "\n",
       "               cpf  cns                bairro  cep  \n",
       "26105  11042361339  NaN         EDSON QUEIROZ  NaN  \n",
       "20627  04518025350  NaN                PEDRAS  NaN  \n",
       "7478          None  NaN  PREFEITO JOSE WALTER  NaN  \n",
       "8183   01440909377  NaN       MARECHAL RONDON  NaN  \n",
       "\n",
       "[4 rows x 21 columns]"
      ]
     },
     "execution_count": 11,
     "metadata": {},
     "output_type": "execute_result"
    }
   ],
   "source": [
    "processed_data = processor.data.copy()\n",
    "processed_data.sample(n=4)"
   ]
  },
  {
   "cell_type": "markdown",
   "id": "e9dfc39f-0ed6-403c-b7d1-686b75f87d21",
   "metadata": {},
   "source": [
    "**TOP 10 names**"
   ]
  },
  {
   "cell_type": "code",
   "execution_count": 12,
   "id": "36576e4d-0ce7-43b1-8321-2db28a9df67d",
   "metadata": {},
   "outputs": [
    {
     "data": {
      "text/html": [
       "<div>\n",
       "<style scoped>\n",
       "    .dataframe tbody tr th:only-of-type {\n",
       "        vertical-align: middle;\n",
       "    }\n",
       "\n",
       "    .dataframe tbody tr th {\n",
       "        vertical-align: top;\n",
       "    }\n",
       "\n",
       "    .dataframe thead th {\n",
       "        text-align: right;\n",
       "    }\n",
       "</style>\n",
       "<table border=\"1\" class=\"dataframe\">\n",
       "  <thead>\n",
       "    <tr style=\"text-align: right;\">\n",
       "      <th></th>\n",
       "      <th>primeiro_nome</th>\n",
       "      <th>norm_primeiro_nome</th>\n",
       "      <th>rank_primeiro_nome</th>\n",
       "      <th>primeiro_nome_mae</th>\n",
       "      <th>norm_primeiro_nome_mae</th>\n",
       "      <th>rank_primeiro_nome_mae</th>\n",
       "    </tr>\n",
       "  </thead>\n",
       "  <tbody>\n",
       "  </tbody>\n",
       "</table>\n",
       "</div>"
      ],
      "text/plain": [
       "Empty DataFrame\n",
       "Columns: [primeiro_nome, norm_primeiro_nome, rank_primeiro_nome, primeiro_nome_mae, norm_primeiro_nome_mae, rank_primeiro_nome_mae]\n",
       "Index: []"
      ]
     },
     "execution_count": 12,
     "metadata": {},
     "output_type": "execute_result"
    }
   ],
   "source": [
    "processor.freq_names[pd.isna(processor.freq_names[\"rank_primeiro_nome_mae\"])]"
   ]
  },
  {
   "cell_type": "code",
   "execution_count": null,
   "id": "dd3224da-6b0d-42cf-961f-2903b1680b3f",
   "metadata": {},
   "outputs": [],
   "source": []
  },
  {
   "cell_type": "markdown",
   "id": "44aa67de-731e-4060-90bb-3305fd0862ce",
   "metadata": {},
   "source": [
    "## **Deduple**"
   ]
  },
  {
   "cell_type": "code",
   "execution_count": 13,
   "id": "5c315d03-5069-4908-a68f-a55b9e57b045",
   "metadata": {},
   "outputs": [
    {
     "name": "stdout",
     "output_type": "stream",
     "text": [
      "Number of pairs: 621290\n"
     ]
    },
    {
     "data": {
      "text/plain": [
       "<epimonitor.data_matching.matching_data.Deduple at 0x285fd075190>"
      ]
     },
     "execution_count": 13,
     "metadata": {},
     "output_type": "execute_result"
    }
   ],
   "source": [
    "#dedupe_path = os.path.join(datapath, \"SIVEP-GRIPE\", \"TRAINING_DATA_CLASSIFIER\", \"DEDUPE_FILES\")\n",
    "deduple = Deduple(processed_data, left_id=\"ID_SIVEP\", env_folder=None)\n",
    "\n",
    "linkage_vars = [\n",
    "    (\"cpf\", \"cpf\", \"exact\", 'cpf'),\n",
    "    (\"cns\", \"cns\", \"exact\", 'cns'),\n",
    "    (\"cep\", \"cep\", \"exact\", 'cep'),\n",
    "    (\"sexo\", \"sexo\", \"exact\", 'sexo'),\n",
    "    (\"nascimento_dia\", \"nascimento_dia\", \"exact\", 'nascimento_dia'),\n",
    "    (\"nascimento_mes\", \"nascimento_mes\", \"exact\", 'nascimento_mes'),\n",
    "    (\"nascimento_ano\", \"nascimento_ano\", \"exact\", 'nascimento_ano'),\n",
    "    (\"primeiro_nome\", \"primeiro_nome\", \"string\", 'primeiro_nome'),\n",
    "    (\"primeiro_nome_mae\", \"primeiro_nome_mae\", \"string\", 'primeiro_nome_mae'),\n",
    "    (\"complemento_nome\", \"complemento_nome\", \"string\", 'complemento_nome'),\n",
    "    (\"complemento_nome_mae\", \"complemento_nome_mae\", \"string\", 'complemento_nome_mae'),\n",
    "]\n",
    "\n",
    "deduple.set_linkage_variables(linkage_vars, string_method=\"damerau_levenshtein\").define_pairs('FONETICA_N', window=3)"
   ]
  },
  {
   "cell_type": "code",
   "execution_count": 14,
   "id": "21212f86-ed06-4484-9071-dc06d39a257a",
   "metadata": {},
   "outputs": [
    {
     "name": "stdout",
     "output_type": "stream",
     "text": [
      "Matching subset batch 1/4 of size 155323 ...\n",
      "Matching subset batch 2/4 of size 155323 ...\n",
      "Matching subset batch 3/4 of size 155322 ...\n",
      "Matching subset batch 4/4 of size 155322 ...\n",
      "Done.\n"
     ]
    },
    {
     "data": {
      "text/plain": [
       "<epimonitor.data_matching.matching_data.Deduple at 0x285fd075190>"
      ]
     },
     "execution_count": 14,
     "metadata": {},
     "output_type": "execute_result"
    }
   ],
   "source": [
    "deduple.perform_linkage(threshold=0.60, number_of_blocks=4)"
   ]
  },
  {
   "cell_type": "code",
   "execution_count": 15,
   "id": "bcad4722-ae59-457c-bf1a-823989fcf92a",
   "metadata": {},
   "outputs": [
    {
     "data": {
      "text/html": [
       "<div>\n",
       "<style scoped>\n",
       "    .dataframe tbody tr th:only-of-type {\n",
       "        vertical-align: middle;\n",
       "    }\n",
       "\n",
       "    .dataframe tbody tr th {\n",
       "        vertical-align: top;\n",
       "    }\n",
       "\n",
       "    .dataframe thead th {\n",
       "        text-align: right;\n",
       "    }\n",
       "</style>\n",
       "<table border=\"1\" class=\"dataframe\">\n",
       "  <thead>\n",
       "    <tr style=\"text-align: right;\">\n",
       "      <th></th>\n",
       "      <th></th>\n",
       "      <th>cpf</th>\n",
       "      <th>cns</th>\n",
       "      <th>cep</th>\n",
       "      <th>sexo</th>\n",
       "      <th>nascimento_dia</th>\n",
       "      <th>nascimento_mes</th>\n",
       "      <th>nascimento_ano</th>\n",
       "      <th>primeiro_nome</th>\n",
       "      <th>primeiro_nome_mae</th>\n",
       "      <th>complemento_nome</th>\n",
       "      <th>complemento_nome_mae</th>\n",
       "      <th>rank_primeiro_nome</th>\n",
       "      <th>rank_primeiro_nome_mae</th>\n",
       "    </tr>\n",
       "    <tr>\n",
       "      <th>ID_SIVEP_1</th>\n",
       "      <th>ID_SIVEP_2</th>\n",
       "      <th></th>\n",
       "      <th></th>\n",
       "      <th></th>\n",
       "      <th></th>\n",
       "      <th></th>\n",
       "      <th></th>\n",
       "      <th></th>\n",
       "      <th></th>\n",
       "      <th></th>\n",
       "      <th></th>\n",
       "      <th></th>\n",
       "      <th></th>\n",
       "      <th></th>\n",
       "    </tr>\n",
       "  </thead>\n",
       "  <tbody>\n",
       "    <tr>\n",
       "      <th>316262809774</th>\n",
       "      <th>31660565385996</th>\n",
       "      <td>0</td>\n",
       "      <td>0</td>\n",
       "      <td>0</td>\n",
       "      <td>1</td>\n",
       "      <td>0</td>\n",
       "      <td>0</td>\n",
       "      <td>0</td>\n",
       "      <td>1.0</td>\n",
       "      <td>1.0</td>\n",
       "      <td>0.0</td>\n",
       "      <td>0.0</td>\n",
       "      <td>7</td>\n",
       "      <td>7</td>\n",
       "    </tr>\n",
       "    <tr>\n",
       "      <th>316264549534</th>\n",
       "      <th>31646860054605</th>\n",
       "      <td>0</td>\n",
       "      <td>0</td>\n",
       "      <td>0</td>\n",
       "      <td>1</td>\n",
       "      <td>0</td>\n",
       "      <td>0</td>\n",
       "      <td>0</td>\n",
       "      <td>1.0</td>\n",
       "      <td>0.0</td>\n",
       "      <td>0.0</td>\n",
       "      <td>0.0</td>\n",
       "      <td>6</td>\n",
       "      <td>6</td>\n",
       "    </tr>\n",
       "    <tr>\n",
       "      <th>316111661030</th>\n",
       "      <th>31685430653005</th>\n",
       "      <td>0</td>\n",
       "      <td>0</td>\n",
       "      <td>0</td>\n",
       "      <td>1</td>\n",
       "      <td>0</td>\n",
       "      <td>0</td>\n",
       "      <td>0</td>\n",
       "      <td>1.0</td>\n",
       "      <td>0.0</td>\n",
       "      <td>0.0</td>\n",
       "      <td>0.0</td>\n",
       "      <td>7</td>\n",
       "      <td>6</td>\n",
       "    </tr>\n",
       "    <tr>\n",
       "      <th>315888747637</th>\n",
       "      <th>316376057600</th>\n",
       "      <td>0</td>\n",
       "      <td>0</td>\n",
       "      <td>0</td>\n",
       "      <td>1</td>\n",
       "      <td>0</td>\n",
       "      <td>0</td>\n",
       "      <td>0</td>\n",
       "      <td>1.0</td>\n",
       "      <td>1.0</td>\n",
       "      <td>0.0</td>\n",
       "      <td>0.0</td>\n",
       "      <td>7</td>\n",
       "      <td>6</td>\n",
       "    </tr>\n",
       "    <tr>\n",
       "      <th>316183245529</th>\n",
       "      <th>316382147210</th>\n",
       "      <td>0</td>\n",
       "      <td>0</td>\n",
       "      <td>0</td>\n",
       "      <td>1</td>\n",
       "      <td>1</td>\n",
       "      <td>0</td>\n",
       "      <td>0</td>\n",
       "      <td>1.0</td>\n",
       "      <td>1.0</td>\n",
       "      <td>1.0</td>\n",
       "      <td>0.0</td>\n",
       "      <td>6</td>\n",
       "      <td>7</td>\n",
       "    </tr>\n",
       "  </tbody>\n",
       "</table>\n",
       "</div>"
      ],
      "text/plain": [
       "                             cpf  cns  cep  sexo  nascimento_dia  \\\n",
       "ID_SIVEP_1   ID_SIVEP_2                                            \n",
       "316262809774 31660565385996    0    0    0     1               0   \n",
       "316264549534 31646860054605    0    0    0     1               0   \n",
       "316111661030 31685430653005    0    0    0     1               0   \n",
       "315888747637 316376057600      0    0    0     1               0   \n",
       "316183245529 316382147210      0    0    0     1               1   \n",
       "\n",
       "                             nascimento_mes  nascimento_ano  primeiro_nome  \\\n",
       "ID_SIVEP_1   ID_SIVEP_2                                                      \n",
       "316262809774 31660565385996               0               0            1.0   \n",
       "316264549534 31646860054605               0               0            1.0   \n",
       "316111661030 31685430653005               0               0            1.0   \n",
       "315888747637 316376057600                 0               0            1.0   \n",
       "316183245529 316382147210                 0               0            1.0   \n",
       "\n",
       "                             primeiro_nome_mae  complemento_nome  \\\n",
       "ID_SIVEP_1   ID_SIVEP_2                                            \n",
       "316262809774 31660565385996                1.0               0.0   \n",
       "316264549534 31646860054605                0.0               0.0   \n",
       "316111661030 31685430653005                0.0               0.0   \n",
       "315888747637 316376057600                  1.0               0.0   \n",
       "316183245529 316382147210                  1.0               1.0   \n",
       "\n",
       "                             complemento_nome_mae rank_primeiro_nome  \\\n",
       "ID_SIVEP_1   ID_SIVEP_2                                                \n",
       "316262809774 31660565385996                   0.0                  7   \n",
       "316264549534 31646860054605                   0.0                  6   \n",
       "316111661030 31685430653005                   0.0                  7   \n",
       "315888747637 316376057600                     0.0                  7   \n",
       "316183245529 316382147210                     0.0                  6   \n",
       "\n",
       "                            rank_primeiro_nome_mae  \n",
       "ID_SIVEP_1   ID_SIVEP_2                             \n",
       "316262809774 31660565385996                      7  \n",
       "316264549534 31646860054605                      6  \n",
       "316111661030 31685430653005                      6  \n",
       "315888747637 316376057600                        6  \n",
       "316183245529 316382147210                        7  "
      ]
     },
     "execution_count": 15,
     "metadata": {},
     "output_type": "execute_result"
    }
   ],
   "source": [
    "deduple.comparison_matrix.sample(n=5)"
   ]
  },
  {
   "cell_type": "code",
   "execution_count": null,
   "id": "469ad7c5-a140-4c5c-ad5c-fb5d3bdb0445",
   "metadata": {},
   "outputs": [],
   "source": []
  },
  {
   "cell_type": "code",
   "execution_count": null,
   "id": "80256eab-7cb3-40cc-a62f-117f2ed40e24",
   "metadata": {},
   "outputs": [],
   "source": [
    "#deduple.comparison_matrix.to_parquet(os.path.join(dedupe_path, \"feature_pairs.parquet\"))"
   ]
  },
  {
   "cell_type": "markdown",
   "id": "79e8c87d-2f5e-44ef-95d2-635616830f94",
   "metadata": {},
   "source": [
    "## **Define easy, intermediate and hard similarity cases**\n",
    "\n",
    "Based on the individual similarity values, create a rule-based aggregated value $S'$ to identify the easy cases.\n",
    "\n",
    "Considering a given pair $(k,l)$ of records, the sum $S$ for $(k,l)$ is defined as $ S(k,l) = \\sum_i x^i(k,l) $, where $\\vec{x}(k,l) = \\big\\langle x^1(k,l), ..., x^n(k,l) \\big\\rangle$ and $x^i$ is the ith comparison feature of the similarity matrix. Also, before defining $S'$, we consider the two following sums:\n",
    "$$\n",
    "S_{\\text{nasc}} = x^{\\text{birth-day}} + x^{\\text{birth-month}} + x^{\\text{birth-year}},\n",
    "$$\n",
    "$$\n",
    "S_{\\text{nome}} = x^{\\text{first-name}} + x^{\\text{complement-name}} + x^{\\text{sexo}},\n",
    "$$ and\n",
    "$$\n",
    "S_{\\text{nome_mae}} = x^{\\text{first-name-mother}} +  x^{\\text{complement-name-mother}}\n",
    "$$"
   ]
  },
  {
   "cell_type": "code",
   "execution_count": 18,
   "id": "e9e9794d-ad18-4fc7-9744-a4705c10a890",
   "metadata": {},
   "outputs": [],
   "source": [
    "aggregated_similarity = pd.DataFrame()\n",
    "comparison_matrix = deduple.comparison_matrix\n",
    "\n",
    "map_sum = {\n",
    "    \"S\": list(map_compare.keys()),\n",
    "    \"S_NASC\": [\"nascimento_dia\", \"nascimento_mes\", \"nascimento_ano\"],\n",
    "    \"S_NOME\": [\"primeiro_nome\", \"complemento_nome\"],\n",
    "    \"S_NOME_MAE\": [\"primeiro_nome_mae\", \"complemento_nome_mae\"],\n",
    "    \"S_CPF\": [\"cpf\"],\n",
    "}\n",
    "for key, value in map_sum.items(): aggregated_similarity[key] = comparison_matrix[value].apply(sum, axis=1)\n",
    "aggregated_similarity = aggregated_similarity.merge(comparison_matrix[[\"rank_primeiro_nome\", \"rank_primeiro_nome_mae\"]], left_index=True, right_index=True, how=\"left\")"
   ]
  },
  {
   "cell_type": "code",
   "execution_count": 21,
   "id": "02f292b6-3367-4b1b-859e-4ab27e66e302",
   "metadata": {},
   "outputs": [
    {
     "data": {
      "text/html": [
       "<div>\n",
       "<style scoped>\n",
       "    .dataframe tbody tr th:only-of-type {\n",
       "        vertical-align: middle;\n",
       "    }\n",
       "\n",
       "    .dataframe tbody tr th {\n",
       "        vertical-align: top;\n",
       "    }\n",
       "\n",
       "    .dataframe thead th {\n",
       "        text-align: right;\n",
       "    }\n",
       "</style>\n",
       "<table border=\"1\" class=\"dataframe\">\n",
       "  <thead>\n",
       "    <tr style=\"text-align: right;\">\n",
       "      <th></th>\n",
       "      <th></th>\n",
       "      <th>S</th>\n",
       "      <th>S_NASC</th>\n",
       "      <th>S_NOME</th>\n",
       "      <th>S_NOME_MAE</th>\n",
       "      <th>S_CPF</th>\n",
       "      <th>rank_primeiro_nome</th>\n",
       "      <th>rank_primeiro_nome_mae</th>\n",
       "    </tr>\n",
       "    <tr>\n",
       "      <th>ID_SIVEP_1</th>\n",
       "      <th>ID_SIVEP_2</th>\n",
       "      <th></th>\n",
       "      <th></th>\n",
       "      <th></th>\n",
       "      <th></th>\n",
       "      <th></th>\n",
       "      <th></th>\n",
       "      <th></th>\n",
       "    </tr>\n",
       "  </thead>\n",
       "  <tbody>\n",
       "    <tr>\n",
       "      <th>316294634646</th>\n",
       "      <th>316275584449</th>\n",
       "      <td>12.0</td>\n",
       "      <td>3</td>\n",
       "      <td>2.0</td>\n",
       "      <td>2.0</td>\n",
       "      <td>1</td>\n",
       "      <td>4</td>\n",
       "      <td>7</td>\n",
       "    </tr>\n",
       "    <tr>\n",
       "      <th>316174938257</th>\n",
       "      <th>31647362880449</th>\n",
       "      <td>12.0</td>\n",
       "      <td>3</td>\n",
       "      <td>2.0</td>\n",
       "      <td>2.0</td>\n",
       "      <td>1</td>\n",
       "      <td>7</td>\n",
       "      <td>7</td>\n",
       "    </tr>\n",
       "    <tr>\n",
       "      <th>31644422466867</th>\n",
       "      <th>31643894368143</th>\n",
       "      <td>12.0</td>\n",
       "      <td>3</td>\n",
       "      <td>2.0</td>\n",
       "      <td>2.0</td>\n",
       "      <td>1</td>\n",
       "      <td>6</td>\n",
       "      <td>7</td>\n",
       "    </tr>\n",
       "    <tr>\n",
       "      <th>316420131858</th>\n",
       "      <th>31643055410225</th>\n",
       "      <td>12.0</td>\n",
       "      <td>3</td>\n",
       "      <td>2.0</td>\n",
       "      <td>2.0</td>\n",
       "      <td>1</td>\n",
       "      <td>4</td>\n",
       "      <td>3</td>\n",
       "    </tr>\n",
       "    <tr>\n",
       "      <th>316412238104</th>\n",
       "      <th>316412236869</th>\n",
       "      <td>12.0</td>\n",
       "      <td>3</td>\n",
       "      <td>2.0</td>\n",
       "      <td>2.0</td>\n",
       "      <td>1</td>\n",
       "      <td>7</td>\n",
       "      <td>7</td>\n",
       "    </tr>\n",
       "    <tr>\n",
       "      <th>...</th>\n",
       "      <th>...</th>\n",
       "      <td>...</td>\n",
       "      <td>...</td>\n",
       "      <td>...</td>\n",
       "      <td>...</td>\n",
       "      <td>...</td>\n",
       "      <td>...</td>\n",
       "      <td>...</td>\n",
       "    </tr>\n",
       "    <tr>\n",
       "      <th>31643047287865</th>\n",
       "      <th>315881772359</th>\n",
       "      <td>0.0</td>\n",
       "      <td>0</td>\n",
       "      <td>0.0</td>\n",
       "      <td>0.0</td>\n",
       "      <td>0</td>\n",
       "      <td>2</td>\n",
       "      <td>5</td>\n",
       "    </tr>\n",
       "    <tr>\n",
       "      <th>316151651772</th>\n",
       "      <th>316229157680</th>\n",
       "      <td>0.0</td>\n",
       "      <td>0</td>\n",
       "      <td>0.0</td>\n",
       "      <td>0.0</td>\n",
       "      <td>0</td>\n",
       "      <td>2</td>\n",
       "      <td>4</td>\n",
       "    </tr>\n",
       "    <tr>\n",
       "      <th>316167556407</th>\n",
       "      <th>316194453966</th>\n",
       "      <td>0.0</td>\n",
       "      <td>0</td>\n",
       "      <td>0.0</td>\n",
       "      <td>0.0</td>\n",
       "      <td>0</td>\n",
       "      <td>3</td>\n",
       "      <td>5</td>\n",
       "    </tr>\n",
       "    <tr>\n",
       "      <th>316206489284</th>\n",
       "      <th>316194453966</th>\n",
       "      <td>0.0</td>\n",
       "      <td>0</td>\n",
       "      <td>0.0</td>\n",
       "      <td>0.0</td>\n",
       "      <td>0</td>\n",
       "      <td>3</td>\n",
       "      <td>3</td>\n",
       "    </tr>\n",
       "    <tr>\n",
       "      <th>315900075630</th>\n",
       "      <th>31642513016155</th>\n",
       "      <td>0.0</td>\n",
       "      <td>0</td>\n",
       "      <td>0.0</td>\n",
       "      <td>0.0</td>\n",
       "      <td>0</td>\n",
       "      <td>2</td>\n",
       "      <td>5</td>\n",
       "    </tr>\n",
       "  </tbody>\n",
       "</table>\n",
       "<p>3164107 rows × 7 columns</p>\n",
       "</div>"
      ],
      "text/plain": [
       "                                  S  S_NASC  S_NOME  S_NOME_MAE  S_CPF  \\\n",
       "ID_SIVEP_1     ID_SIVEP_2                                                \n",
       "316294634646   316275584449    12.0       3     2.0         2.0      1   \n",
       "316174938257   31647362880449  12.0       3     2.0         2.0      1   \n",
       "31644422466867 31643894368143  12.0       3     2.0         2.0      1   \n",
       "316420131858   31643055410225  12.0       3     2.0         2.0      1   \n",
       "316412238104   316412236869    12.0       3     2.0         2.0      1   \n",
       "...                             ...     ...     ...         ...    ...   \n",
       "31643047287865 315881772359     0.0       0     0.0         0.0      0   \n",
       "316151651772   316229157680     0.0       0     0.0         0.0      0   \n",
       "316167556407   316194453966     0.0       0     0.0         0.0      0   \n",
       "316206489284   316194453966     0.0       0     0.0         0.0      0   \n",
       "315900075630   31642513016155   0.0       0     0.0         0.0      0   \n",
       "\n",
       "                              rank_primeiro_nome rank_primeiro_nome_mae  \n",
       "ID_SIVEP_1     ID_SIVEP_2                                                \n",
       "316294634646   316275584449                    4                      7  \n",
       "316174938257   31647362880449                  7                      7  \n",
       "31644422466867 31643894368143                  6                      7  \n",
       "316420131858   31643055410225                  4                      3  \n",
       "316412238104   316412236869                    7                      7  \n",
       "...                                          ...                    ...  \n",
       "31643047287865 315881772359                    2                      5  \n",
       "316151651772   316229157680                    2                      4  \n",
       "316167556407   316194453966                    3                      5  \n",
       "316206489284   316194453966                    3                      3  \n",
       "315900075630   31642513016155                  2                      5  \n",
       "\n",
       "[3164107 rows x 7 columns]"
      ]
     },
     "execution_count": 21,
     "metadata": {},
     "output_type": "execute_result"
    }
   ],
   "source": [
    "aggregated_similarity.sort_values(by=\"S\", ascending=False)"
   ]
  },
  {
   "cell_type": "code",
   "execution_count": 20,
   "id": "b06cd1e2-bb44-4344-935c-5c441596d07a",
   "metadata": {},
   "outputs": [
    {
     "data": {
      "image/png": "[encoded data removed]",
      "text/plain": [
       "<Figure size 700x480 with 1 Axes>"
      ]
     },
     "metadata": {},
     "output_type": "display_data"
    }
   ],
   "source": [
    "# -- visualize score distribution\n",
    "bins1 = np.arange(0, 13.0, 1.0) \n",
    "res1 = deduple.score_summary(aggregated_similarity[\"S\"], bins1, [10,12], [7,10], scale=\"log\")"
   ]
  },
  {
   "cell_type": "markdown",
   "id": "cf19622a-2a77-416b-96c0-88f333d005fd",
   "metadata": {},
   "source": [
    "## **Create annotation files**"
   ]
  },
  {
   "cell_type": "code",
   "execution_count": 118,
   "id": "4e7bd5ee-25fe-4cf4-a597-4db6a74b73f7",
   "metadata": {},
   "outputs": [],
   "source": [
    "sf = aggregated_similarity[\"S\"]\n",
    "\n",
    "high_pairs = list(comparison_matrix[(sf>=10)].index)\n",
    "midhigh_pairs = list(comparison_matrix[(sf>=8.0) & (sf<=10)].index)\n",
    "mid_pairs = list(comparison_matrix[(sf>=7.0) & (sf<8.0)].index)\n",
    "midlow_pairs = list(comparison_matrix[(sf>=5.0) & (sf<7.0)].sample(n=5000).index)\n",
    "low_pairs = list(comparison_matrix[(sf>=0.0) & (sf<=5.0)].sample(n=5000).index)\n",
    "\n",
    "list_of_pairs = high_pairs + midhigh_pairs + mid_pairs + midlow_pairs + low_pairs "
   ]
  },
  {
   "cell_type": "code",
   "execution_count": 119,
   "id": "f4084442-a5a9-4c64-922d-6c322306212e",
   "metadata": {},
   "outputs": [
    {
     "name": "stdout",
     "output_type": "stream",
     "text": [
      "3129 5064 716 5000 5000 18909\n"
     ]
    }
   ],
   "source": [
    "print(len(high_pairs), len(midhigh_pairs), len(mid_pairs), len(midlow_pairs), len(low_pairs), len(list_of_pairs))"
   ]
  },
  {
   "cell_type": "code",
   "execution_count": 26,
   "id": "27c49b9c-fc8a-4722-a0f3-14d5825a1191",
   "metadata": {},
   "outputs": [],
   "source": [
    "#deduple.left_df[\"NASCIMENTO\"] = deduple.left_df[\"DATA_NASCIMENTO\"].apply(lambda x: f\"{x.day:2.0f}/{x.month:2.0f}/{x.year}\".replace(\" \", \"0\") if pd.notna(x) else np.nan)"
   ]
  },
  {
   "cell_type": "code",
   "execution_count": 31,
   "id": "b8584b9c-854f-4d27-8cc0-042638494b7e",
   "metadata": {},
   "outputs": [
    {
     "name": "stdout",
     "output_type": "stream",
     "text": [
      "SCORE: 10.0\n"
     ]
    },
    {
     "data": {
      "text/html": [
       "<div>\n",
       "<style scoped>\n",
       "    .dataframe tbody tr th:only-of-type {\n",
       "        vertical-align: middle;\n",
       "    }\n",
       "\n",
       "    .dataframe tbody tr th {\n",
       "        vertical-align: top;\n",
       "    }\n",
       "\n",
       "    .dataframe thead th {\n",
       "        text-align: right;\n",
       "    }\n",
       "</style>\n",
       "<table border=\"1\" class=\"dataframe\">\n",
       "  <thead>\n",
       "    <tr style=\"text-align: right;\">\n",
       "      <th></th>\n",
       "      <th>316415769409</th>\n",
       "      <th>31644498657813</th>\n",
       "    </tr>\n",
       "  </thead>\n",
       "  <tbody>\n",
       "    <tr>\n",
       "      <th>NOME_PACIENTE</th>\n",
       "      <td>MARINA DOS SANTOS MORAIS</td>\n",
       "      <td>MARINA DOS SANTOS MORAIS</td>\n",
       "    </tr>\n",
       "    <tr>\n",
       "      <th>NASCIMENTO</th>\n",
       "      <td>13/01/1989</td>\n",
       "      <td>13/01/1989</td>\n",
       "    </tr>\n",
       "    <tr>\n",
       "      <th>NOME_MAE</th>\n",
       "      <td>AURILENE MONTEIRO DOS SANTOS</td>\n",
       "      <td>AURILENE MONTEIRO DOS SANTOS</td>\n",
       "    </tr>\n",
       "    <tr>\n",
       "      <th>bairro</th>\n",
       "      <td>BARRA</td>\n",
       "      <td>NaN</td>\n",
       "    </tr>\n",
       "    <tr>\n",
       "      <th>sexo</th>\n",
       "      <td>F</td>\n",
       "      <td>F</td>\n",
       "    </tr>\n",
       "    <tr>\n",
       "      <th>cpf</th>\n",
       "      <td>03532675382</td>\n",
       "      <td>03532675382</td>\n",
       "    </tr>\n",
       "    <tr>\n",
       "      <th>cns</th>\n",
       "      <td>NaN</td>\n",
       "      <td>NaN</td>\n",
       "    </tr>\n",
       "    <tr>\n",
       "      <th>cep</th>\n",
       "      <td>62815000</td>\n",
       "      <td>62815000</td>\n",
       "    </tr>\n",
       "  </tbody>\n",
       "</table>\n",
       "</div>"
      ],
      "text/plain": [
       "                               316415769409                31644498657813\n",
       "NOME_PACIENTE      MARINA DOS SANTOS MORAIS      MARINA DOS SANTOS MORAIS\n",
       "NASCIMENTO                       13/01/1989                    13/01/1989\n",
       "NOME_MAE       AURILENE MONTEIRO DOS SANTOS  AURILENE MONTEIRO DOS SANTOS\n",
       "bairro                                BARRA                           NaN\n",
       "sexo                                      F                             F\n",
       "cpf                             03532675382                   03532675382\n",
       "cns                                     NaN                           NaN\n",
       "cep                                62815000                      62815000"
      ]
     },
     "execution_count": 31,
     "metadata": {},
     "output_type": "execute_result"
    }
   ],
   "source": [
    "cols = [\"NOME_PACIENTE\", \"NASCIMENTO\", \"NOME_MAE\", \n",
    "        \"bairro\", \"sexo\", \"cpf\", \"cns\", \"cep\"]\n",
    "vis = deduple.show_pair(midhigh_pairs, left_cols=cols, random_state=None)\n",
    "print(f\"SCORE: {sf.loc[(vis.columns[0], vis.columns[1])]}\")\n",
    "vis"
   ]
  },
  {
   "cell_type": "code",
   "execution_count": 121,
   "id": "eb34cea4-0e70-4f50-8f57-cc1c9b50b2d7",
   "metadata": {},
   "outputs": [],
   "source": [
    "aggr_df = aggregated_similarity[[\"S\", \"S_NOME\", \"S_NASC\", \"S_NOME_MAE\"]]\n",
    "\n",
    "deduple_path_high = os.path.join(dedupe_path, \"HIGH_PAIRS\")\n",
    "deduple_path_midhigh = os.path.join(dedupe_path, \"MIDHIGH_PAIRS\")\n",
    "deduple_path_mid = os.path.join(dedupe_path, \"MID_PAIRS\")\n",
    "deduple_path_midlow = os.path.join(dedupe_path, \"MIDLOW_PAIRS\")\n",
    "deduple_path_low = os.path.join(dedupe_path, \"LOW_PAIRS\")\n",
    "\n",
    "for folder in [deduple_path_high, deduple_path_midhigh, deduple_path_mid, deduple_path_midlow, deduple_path_low]:\n",
    "    if not os.path.isdir(folder):\n",
    "        os.mkdir(folder)"
   ]
  },
  {
   "cell_type": "code",
   "execution_count": 122,
   "id": "2f07d78d-c096-4481-9a0b-be58fd5a56a4",
   "metadata": {},
   "outputs": [],
   "source": [
    "#deduple.save_files(high_pairs, aggr_df, output_folder=deduple_path_high, left_cols=cols, right_cols=cols, overwrite=True, batchsize=150)\n",
    "#deduple.save_files(midhigh_pairs, aggr_df, output_folder=deduple_path_midhigh, left_cols=cols, right_cols=cols, overwrite=True, batchsize=150)\n",
    "#deduple.save_files(mid_pairs, aggr_df, output_folder=deduple_path_mid, left_cols=cols, right_cols=cols, overwrite=True, batchsize=150)\n",
    "#deduple.save_files(midlow_pairs, aggr_df, output_folder=deduple_path_midlow, left_cols=cols, right_cols=cols, overwrite=True, batchsize=150)\n",
    "#deduple.save_files(low_pairs, aggr_df, output_folder=deduple_path_low, left_cols=cols, right_cols=cols, overwrite=True, batchsize=150)"
   ]
  },
  {
   "cell_type": "code",
   "execution_count": null,
   "id": "89675aee-df80-47cb-990d-aea5beaa120e",
   "metadata": {},
   "outputs": [],
   "source": []
  },
  {
   "cell_type": "code",
   "execution_count": 36,
   "id": "3270bf2b-c20f-4b7f-b1b9-3ac6f4a917d7",
   "metadata": {},
   "outputs": [],
   "source": [
    "# -- open classification files"
   ]
  },
  {
   "cell_type": "code",
   "execution_count": 689,
   "id": "7f992aab-489c-4e5c-93c0-2539590597b3",
   "metadata": {},
   "outputs": [],
   "source": [
    "sel_folder = deduple_path_high\n",
    "pair_number = 5\n",
    "with open(os.path.join(sel_folder, f\"PAIRS_{pair_number}.json\"), \"r\") as f:\n",
    "    data = json.load(f)"
   ]
  },
  {
   "cell_type": "code",
   "execution_count": 690,
   "id": "a0fa56ce-4052-4ca5-8371-9a0b8e370db7",
   "metadata": {},
   "outputs": [],
   "source": [
    "freq_sum = {\n",
    "    \"S\": [ data['pairs'][n]['agg']['S'] for n in range( len(data['pairs']) ) ],\n",
    "    \"S_NOME\": [ data['pairs'][n]['agg']['S_NOME'] for n in range( len(data['pairs']) ) ],\n",
    "    \"S_NOME_MAE\": [ data['pairs'][n]['agg']['S_NOME_MAE'] for n in range( len(data['pairs']) ) ],\n",
    "    \"S_NASC\": [ data['pairs'][n]['agg']['S_NASC'] for n in range( len(data['pairs']) ) ]\n",
    "}"
   ]
  },
  {
   "cell_type": "code",
   "execution_count": 691,
   "id": "f7961638-4fa1-445a-a95e-bdf74fd39ae0",
   "metadata": {},
   "outputs": [
    {
     "data": {
      "text/plain": [
       "Text(0, 0.5, 'Freq. Nascimento')"
      ]
     },
     "execution_count": 691,
     "metadata": {},
     "output_type": "execute_result"
    },
    {
     "data": {
      "image/png": "[encoded data removed]",
      "text/plain": [
       "<Figure size 600x1100 with 4 Axes>"
      ]
     },
     "metadata": {},
     "output_type": "display_data"
    }
   ],
   "source": [
    "soma_arr = freq_sum[\"S\"]\n",
    "nome_arr = freq_sum[\"S_NOME\"]\n",
    "nomemae_arr = freq_sum[\"S_NOME_MAE\"]\n",
    "nasc_arr = freq_sum[\"S_NASC\"]\n",
    "\n",
    "fig, (ax0, ax1, ax2, ax3) = plt.subplots(4,1, figsize=(6,11))\n",
    "freq_soma, interval_soma = np.histogram(soma_arr, bins=np.arange(4, 10.2, 0.5))\n",
    "freq_nome, interval_nome = np.histogram(nome_arr, bins=np.arange(0, 2.2, 0.2))\n",
    "freq_nomemae, interval_nomemae = np.histogram(nomemae_arr, bins=np.arange(0, 2.2, 0.2))\n",
    "freq_nasc, interval_nasc = np.histogram(nasc_arr, bins=np.arange(0, 3.2, 0.2))\n",
    "\n",
    "ax0.bar(interval_soma[:-1], freq_soma, align='edge', width=0.47, color='tab:blue', alpha=0.8)\n",
    "ax1.bar(interval_nome[:-1], freq_nome, align='edge', width=0.17, color='tab:blue', alpha=0.8)\n",
    "ax2.bar(interval_nomemae[:-1], freq_nomemae, align='edge', width=0.17, color='tab:blue', alpha=0.8)\n",
    "ax3.bar(interval_nasc[:-1], freq_nasc, align='edge', width=0.17, color='tab:blue', alpha=0.8)\n",
    "\n",
    "for axis in [ax0, ax1, ax2, ax3]:\n",
    "    axis.grid(alpha=0.1)\n",
    "    axis.set_xticks(np.arange(0, 2.2, 0.2))\n",
    "    #axis.set_xlabel(\"sum\", fontsize=12)\n",
    "    axis.set_ylabel(\"total\", fontsize=12)\n",
    "    axis.spines['top'].set_linewidth(0)\n",
    "    axis.spines['right'].set_linewidth(0)\n",
    "ax3.set_xticks(np.arange(0, 3.2, 0.2))\n",
    "ax0.set_xticks(np.arange(4, 10.2, 0.5))\n",
    "ax0.set_xlim([4,10])\n",
    "ax0.set_yscale('log')\n",
    "ax1.set_ylabel(\"Freq. Nome\")\n",
    "ax2.set_ylabel(\"Freq. Nome Mãe\")\n",
    "ax3.set_ylabel(\"Freq. Nascimento\")"
   ]
  },
  {
   "cell_type": "code",
   "execution_count": 688,
   "id": "00f06988-1525-4019-9807-72d2a9b93177",
   "metadata": {},
   "outputs": [],
   "source": [
    "nascl = [ (data['pairs'][n]['identifiers']['a'], data['pairs'][n]['identifiers']['b']) for n in range( len(data['pairs']) ) if data['pairs'][n]['agg']['S_NASC']>=1.0 and data['pairs'][n]['agg']['S_NASC']<=3.1 ]\n",
    "nomel = [ (data['pairs'][n]['identifiers']['a'], data['pairs'][n]['identifiers']['b']) for n in range( len(data['pairs']) ) if data['pairs'][n]['agg']['S_NOME']>=1.1 and data['pairs'][n]['agg']['S_NOME']<=2.9 ]\n",
    "nomemael = [ (data['pairs'][n]['identifiers']['a'], data['pairs'][n]['identifiers']['b']) for n in range( len(data['pairs']) ) if data['pairs'][n]['agg']['S_NOME_MAE']>=1.1 and data['pairs'][n]['agg']['S_NOME_MAE']<=2.9 ]"
   ]
  },
  {
   "cell_type": "code",
   "execution_count": null,
   "id": "e9032f22-55f5-4cb1-b765-79f25892bcdd",
   "metadata": {},
   "outputs": [],
   "source": []
  },
  {
   "cell_type": "code",
   "execution_count": 646,
   "id": "9604f524-1ee7-42f7-98a3-50f3eab6eacd",
   "metadata": {},
   "outputs": [
    {
     "name": "stdout",
     "output_type": "stream",
     "text": [
      "34\n"
     ]
    },
    {
     "data": {
      "text/plain": [
       "[('316372566589', '316255759512'),\n",
       " ('315875047100', '316171920842'),\n",
       " ('316240248835', '316255790590'),\n",
       " ('316418507615', '316058684533'),\n",
       " ('316189247578', '316316242109'),\n",
       " ('31668794380466', '316053578202'),\n",
       " ('316194663973', '316179655416'),\n",
       " ('31642773965909', '315881648306'),\n",
       " ('31656236250447', '316339552433'),\n",
       " ('315924440654', '315886060067'),\n",
       " ('31659016283657', '316109912233'),\n",
       " ('316165015951', '316166960104'),\n",
       " ('315915499327', '315896595434'),\n",
       " ('31665868372828', '316250634499'),\n",
       " ('316034473812', '31659017880521'),\n",
       " ('31686508522557', '31677504394062'),\n",
       " ('31649863917030', '316073448456'),\n",
       " ('31642439731949', '316219625405'),\n",
       " ('31676338321199', '31642304337272'),\n",
       " ('316171300227', '316240400705'),\n",
       " ('316264670924', '316307572815'),\n",
       " ('31672430054622', '316325819708'),\n",
       " ('316177970757', '315895450865'),\n",
       " ('316239383536', '316224898751'),\n",
       " ('316158171865', '316200677921'),\n",
       " ('316310144880', '315955299518'),\n",
       " ('316148772608', '316039691143'),\n",
       " ('316143493672', '315943255356'),\n",
       " ('31643041516542', '316148004388'),\n",
       " ('316146032146', '31645309633569'),\n",
       " ('316276540882', '315987933748'),\n",
       " ('31652798364614', '315922300246'),\n",
       " ('315919048497', '316414735390'),\n",
       " ('316156526345', '316063321233')]"
      ]
     },
     "execution_count": 646,
     "metadata": {},
     "output_type": "execute_result"
    }
   ],
   "source": [
    "sset = set(nascl).intersection(set(nomel)).intersection( (set(nomemael)) )\n",
    "lset = list(sset)\n",
    "print(len(lset))\n",
    "lset"
   ]
  },
  {
   "cell_type": "code",
   "execution_count": 680,
   "id": "77936551-4325-4826-8bea-dd848625acbe",
   "metadata": {},
   "outputs": [
    {
     "data": {
      "text/plain": [
       "[{'cod': 730,\n",
       "  'classification': 'negative',\n",
       "  'a': {'NOME_PACIENTE': 'JOSE VALDIR PEREIRA DA SILVA',\n",
       "   'NASCIMENTO': '08/09/1960',\n",
       "   'NOME_MAE': 'MARIA PEREIRA DA SILVA',\n",
       "   'bairro': 'PASSARE',\n",
       "   'sexo': 'M',\n",
       "   'cpf': None,\n",
       "   'cns': nan,\n",
       "   'cep': '60861790'},\n",
       "  'b': {'NOME_PACIENTE': 'JOSE FERREIRA DA SILVA',\n",
       "   'NASCIMENTO': '17/09/1939',\n",
       "   'NOME_MAE': 'MARIA ROSA DA SILVA',\n",
       "   'bairro': 'PASSARE',\n",
       "   'sexo': 'M',\n",
       "   'cpf': None,\n",
       "   'cns': nan,\n",
       "   'cep': nan},\n",
       "  'identifiers': {'a': '316156526345', 'b': '316063321233'},\n",
       "  'agg': {'S': 6.3396739130434785,\n",
       "   'S_NOME': 1.6521739130434783,\n",
       "   'S_NASC': 1,\n",
       "   'S_NOME_MAE': 1.6875}}]"
      ]
     },
     "execution_count": 680,
     "metadata": {},
     "output_type": "execute_result"
    }
   ],
   "source": [
    "iindex = 33\n",
    "#lset = list(sset)\n",
    "ex = [ data['pairs'][n] for n in range( len(data['pairs']) ) if data['pairs'][n]['identifiers']['a']==lset[iindex][0] and data['pairs'][n]['identifiers']['b']==lset[iindex][1] ]\n",
    "ex"
   ]
  },
  {
   "cell_type": "code",
   "execution_count": 373,
   "id": "3a9d5ce8-2cd4-4d82-ae7a-25163d2cb9d5",
   "metadata": {},
   "outputs": [
    {
     "ename": "ValueError",
     "evalue": "If using all scalar values, you must pass an index",
     "output_type": "error",
     "traceback": [
      "\u001b[1;31m---------------------------------------------------------------------------\u001b[0m",
      "\u001b[1;31mValueError\u001b[0m                                Traceback (most recent call last)",
      "Input \u001b[1;32mIn [373]\u001b[0m, in \u001b[0;36m<cell line: 1>\u001b[1;34m()\u001b[0m\n\u001b[1;32m----> 1\u001b[0m \u001b[43mpd\u001b[49m\u001b[38;5;241;43m.\u001b[39;49m\u001b[43mDataFrame\u001b[49m\u001b[43m(\u001b[49m\u001b[43mex\u001b[49m\u001b[43m[\u001b[49m\u001b[38;5;241;43m0\u001b[39;49m\u001b[43m]\u001b[49m\u001b[43m[\u001b[49m\u001b[38;5;124;43m'\u001b[39;49m\u001b[38;5;124;43ma\u001b[39;49m\u001b[38;5;124;43m'\u001b[39;49m\u001b[43m]\u001b[49m\u001b[43m,\u001b[49m\u001b[43m \u001b[49m\u001b[43mindex\u001b[49m\u001b[38;5;241;43m=\u001b[39;49m\u001b[38;5;28;43;01mNone\u001b[39;49;00m\u001b[43m)\u001b[49m\n",
      "File \u001b[1;32m~\\Miniconda3\\envs\\cevepi\\lib\\site-packages\\pandas\\core\\frame.py:709\u001b[0m, in \u001b[0;36mDataFrame.__init__\u001b[1;34m(self, data, index, columns, dtype, copy)\u001b[0m\n\u001b[0;32m    703\u001b[0m     mgr \u001b[38;5;241m=\u001b[39m \u001b[38;5;28mself\u001b[39m\u001b[38;5;241m.\u001b[39m_init_mgr(\n\u001b[0;32m    704\u001b[0m         data, axes\u001b[38;5;241m=\u001b[39m{\u001b[38;5;124m\"\u001b[39m\u001b[38;5;124mindex\u001b[39m\u001b[38;5;124m\"\u001b[39m: index, \u001b[38;5;124m\"\u001b[39m\u001b[38;5;124mcolumns\u001b[39m\u001b[38;5;124m\"\u001b[39m: columns}, dtype\u001b[38;5;241m=\u001b[39mdtype, copy\u001b[38;5;241m=\u001b[39mcopy\n\u001b[0;32m    705\u001b[0m     )\n\u001b[0;32m    707\u001b[0m \u001b[38;5;28;01melif\u001b[39;00m \u001b[38;5;28misinstance\u001b[39m(data, \u001b[38;5;28mdict\u001b[39m):\n\u001b[0;32m    708\u001b[0m     \u001b[38;5;66;03m# GH#38939 de facto copy defaults to False only in non-dict cases\u001b[39;00m\n\u001b[1;32m--> 709\u001b[0m     mgr \u001b[38;5;241m=\u001b[39m \u001b[43mdict_to_mgr\u001b[49m\u001b[43m(\u001b[49m\u001b[43mdata\u001b[49m\u001b[43m,\u001b[49m\u001b[43m \u001b[49m\u001b[43mindex\u001b[49m\u001b[43m,\u001b[49m\u001b[43m \u001b[49m\u001b[43mcolumns\u001b[49m\u001b[43m,\u001b[49m\u001b[43m \u001b[49m\u001b[43mdtype\u001b[49m\u001b[38;5;241;43m=\u001b[39;49m\u001b[43mdtype\u001b[49m\u001b[43m,\u001b[49m\u001b[43m \u001b[49m\u001b[43mcopy\u001b[49m\u001b[38;5;241;43m=\u001b[39;49m\u001b[43mcopy\u001b[49m\u001b[43m,\u001b[49m\u001b[43m \u001b[49m\u001b[43mtyp\u001b[49m\u001b[38;5;241;43m=\u001b[39;49m\u001b[43mmanager\u001b[49m\u001b[43m)\u001b[49m\n\u001b[0;32m    710\u001b[0m \u001b[38;5;28;01melif\u001b[39;00m \u001b[38;5;28misinstance\u001b[39m(data, ma\u001b[38;5;241m.\u001b[39mMaskedArray):\n\u001b[0;32m    711\u001b[0m     \u001b[38;5;28;01mfrom\u001b[39;00m \u001b[38;5;21;01mnumpy\u001b[39;00m\u001b[38;5;21;01m.\u001b[39;00m\u001b[38;5;21;01mma\u001b[39;00m \u001b[38;5;28;01mimport\u001b[39;00m mrecords\n",
      "File \u001b[1;32m~\\Miniconda3\\envs\\cevepi\\lib\\site-packages\\pandas\\core\\internals\\construction.py:481\u001b[0m, in \u001b[0;36mdict_to_mgr\u001b[1;34m(data, index, columns, dtype, typ, copy)\u001b[0m\n\u001b[0;32m    477\u001b[0m     \u001b[38;5;28;01melse\u001b[39;00m:\n\u001b[0;32m    478\u001b[0m         \u001b[38;5;66;03m# dtype check to exclude e.g. range objects, scalars\u001b[39;00m\n\u001b[0;32m    479\u001b[0m         arrays \u001b[38;5;241m=\u001b[39m [x\u001b[38;5;241m.\u001b[39mcopy() \u001b[38;5;28;01mif\u001b[39;00m \u001b[38;5;28mhasattr\u001b[39m(x, \u001b[38;5;124m\"\u001b[39m\u001b[38;5;124mdtype\u001b[39m\u001b[38;5;124m\"\u001b[39m) \u001b[38;5;28;01melse\u001b[39;00m x \u001b[38;5;28;01mfor\u001b[39;00m x \u001b[38;5;129;01min\u001b[39;00m arrays]\n\u001b[1;32m--> 481\u001b[0m \u001b[38;5;28;01mreturn\u001b[39;00m \u001b[43marrays_to_mgr\u001b[49m\u001b[43m(\u001b[49m\u001b[43marrays\u001b[49m\u001b[43m,\u001b[49m\u001b[43m \u001b[49m\u001b[43mcolumns\u001b[49m\u001b[43m,\u001b[49m\u001b[43m \u001b[49m\u001b[43mindex\u001b[49m\u001b[43m,\u001b[49m\u001b[43m \u001b[49m\u001b[43mdtype\u001b[49m\u001b[38;5;241;43m=\u001b[39;49m\u001b[43mdtype\u001b[49m\u001b[43m,\u001b[49m\u001b[43m \u001b[49m\u001b[43mtyp\u001b[49m\u001b[38;5;241;43m=\u001b[39;49m\u001b[43mtyp\u001b[49m\u001b[43m,\u001b[49m\u001b[43m \u001b[49m\u001b[43mconsolidate\u001b[49m\u001b[38;5;241;43m=\u001b[39;49m\u001b[43mcopy\u001b[49m\u001b[43m)\u001b[49m\n",
      "File \u001b[1;32m~\\Miniconda3\\envs\\cevepi\\lib\\site-packages\\pandas\\core\\internals\\construction.py:115\u001b[0m, in \u001b[0;36marrays_to_mgr\u001b[1;34m(arrays, columns, index, dtype, verify_integrity, typ, consolidate)\u001b[0m\n\u001b[0;32m    112\u001b[0m \u001b[38;5;28;01mif\u001b[39;00m verify_integrity:\n\u001b[0;32m    113\u001b[0m     \u001b[38;5;66;03m# figure out the index, if necessary\u001b[39;00m\n\u001b[0;32m    114\u001b[0m     \u001b[38;5;28;01mif\u001b[39;00m index \u001b[38;5;129;01mis\u001b[39;00m \u001b[38;5;28;01mNone\u001b[39;00m:\n\u001b[1;32m--> 115\u001b[0m         index \u001b[38;5;241m=\u001b[39m \u001b[43m_extract_index\u001b[49m\u001b[43m(\u001b[49m\u001b[43marrays\u001b[49m\u001b[43m)\u001b[49m\n\u001b[0;32m    116\u001b[0m     \u001b[38;5;28;01melse\u001b[39;00m:\n\u001b[0;32m    117\u001b[0m         index \u001b[38;5;241m=\u001b[39m ensure_index(index)\n",
      "File \u001b[1;32m~\\Miniconda3\\envs\\cevepi\\lib\\site-packages\\pandas\\core\\internals\\construction.py:645\u001b[0m, in \u001b[0;36m_extract_index\u001b[1;34m(data)\u001b[0m\n\u001b[0;32m    642\u001b[0m         \u001b[38;5;28;01mraise\u001b[39;00m \u001b[38;5;167;01mValueError\u001b[39;00m(\u001b[38;5;124m\"\u001b[39m\u001b[38;5;124mPer-column arrays must each be 1-dimensional\u001b[39m\u001b[38;5;124m\"\u001b[39m)\n\u001b[0;32m    644\u001b[0m \u001b[38;5;28;01mif\u001b[39;00m \u001b[38;5;129;01mnot\u001b[39;00m indexes \u001b[38;5;129;01mand\u001b[39;00m \u001b[38;5;129;01mnot\u001b[39;00m raw_lengths:\n\u001b[1;32m--> 645\u001b[0m     \u001b[38;5;28;01mraise\u001b[39;00m \u001b[38;5;167;01mValueError\u001b[39;00m(\u001b[38;5;124m\"\u001b[39m\u001b[38;5;124mIf using all scalar values, you must pass an index\u001b[39m\u001b[38;5;124m\"\u001b[39m)\n\u001b[0;32m    647\u001b[0m \u001b[38;5;28;01mif\u001b[39;00m have_series:\n\u001b[0;32m    648\u001b[0m     index \u001b[38;5;241m=\u001b[39m union_indexes(indexes)\n",
      "\u001b[1;31mValueError\u001b[0m: If using all scalar values, you must pass an index"
     ]
    }
   ],
   "source": [
    "pd.DataFrame(ex[0]['a'], index=None)"
   ]
  },
  {
   "cell_type": "code",
   "execution_count": 301,
   "id": "39cc323a-8eca-4758-a74d-ef4b1c09ae38",
   "metadata": {},
   "outputs": [
    {
     "data": {
      "text/plain": [
       "{'NOME_PACIENTE': 'FRANCISCO ALVES DA SILVA',\n",
       " 'NASCIMENTO': '17/02/1971',\n",
       " 'NOME_MAE': 'FRANCISCA ALVES DA SILVA',\n",
       " 'bairro': 'CRUZEIRO',\n",
       " 'sexo': 'M',\n",
       " 'cpf': '45462372353',\n",
       " 'cns': nan,\n",
       " 'cep': '60000000'}"
      ]
     },
     "execution_count": 301,
     "metadata": {},
     "output_type": "execute_result"
    }
   ],
   "source": [
    "ex[0]['a']"
   ]
  },
  {
   "cell_type": "code",
   "execution_count": null,
   "id": "596083b2-f303-4ed8-987c-e76b31fae27c",
   "metadata": {},
   "outputs": [],
   "source": []
  },
  {
   "cell_type": "code",
   "execution_count": 27,
   "id": "ec3d8090-64fb-4e37-9f0e-049bf294d55f",
   "metadata": {},
   "outputs": [
    {
     "data": {
      "text/plain": [
       "3"
      ]
     },
     "execution_count": 27,
     "metadata": {},
     "output_type": "execute_result"
    }
   ],
   "source": [
    "pd.MultiIndex.from_tuples([(1,2), (3,4), (5,6)]).shape[0]"
   ]
  },
  {
   "cell_type": "code",
   "execution_count": null,
   "id": "8dec74e0-5364-46b5-8419-a2e21365bd3a",
   "metadata": {},
   "outputs": [],
   "source": []
  }
 ],
 "metadata": {
  "kernelspec": {
   "display_name": "Python 3 (ipykernel)",
   "language": "python",
   "name": "python3"
  },
  "language_info": {
   "codemirror_mode": {
    "name": "ipython",
    "version": 3
   },
   "file_extension": ".py",
   "mimetype": "text/x-python",
   "name": "python",
   "nbconvert_exporter": "python",
   "pygments_lexer": "ipython3",
   "version": "3.9.16"
  }
 },
 "nbformat": 4,
 "nbformat_minor": 5
}
